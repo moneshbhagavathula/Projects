{
 "cells": [
  {
   "cell_type": "raw",
   "metadata": {},
   "source": [
    "Objective - To train deep network to classify images of traffic signs which has 43 different classes."
   ]
  },
  {
   "cell_type": "code",
   "execution_count": 1,
   "metadata": {},
   "outputs": [],
   "source": [
    "classes=    [( 0, b'Speed limit (20km/h)'), \n",
    "    ( 1, b'Speed limit (30km/h)') ,\n",
    "    ( 2, b'Speed limit (50km/h)') ,\n",
    "    ( 3, b'Speed limit (60km/h)') ,\n",
    "    ( 4, b'Speed limit (70km/h)') ,\n",
    "    ( 5, b'Speed limit (80km/h)') ,\n",
    "    ( 6, b'End of speed limit (80km/h)') ,\n",
    "    ( 7, b'Speed limit (100km/h)') ,\n",
    "    ( 8, b'Speed limit (120km/h)') ,\n",
    "    ( 9, b'No passing') ,\n",
    "    (10, b'No passing for vehicles over 3.5 metric tons') ,\n",
    "    (11, b'Right-of-way at the next intersection') ,\n",
    "    (12, b'Priority road') ,\n",
    "    (13, b'Yield') ,\n",
    "    (14, b'Stop') ,\n",
    "    (15, b'No vehicles') ,\n",
    "    (16, b'Vehicles over 3.5 metric tons prohibited') ,\n",
    "    (17, b'No entry'),\n",
    "    (18, b'General caution') ,\n",
    "    (19, b'Dangerous curve to the left'),\n",
    "    (20, b'Dangerous curve to the right'), \n",
    "    (21, b'Double curve'),\n",
    "    (22, b'Bumpy road') ,\n",
    "    (23, b'Slippery road'),\n",
    "    (24, b'Road narrows on the right') ,\n",
    "    (25, b'Road work'),\n",
    "    (26, b'Traffic signals') ,\n",
    "    (27, b'Pedestrians') ,\n",
    "    (28, b'Children crossing'),\n",
    "    (29, b'Bicycles crossing') ,\n",
    "    (30, b'Beware of ice/snow'),\n",
    "    (31, b'Wild animals crossing'),\n",
    "    (32, b'End of all speed and passing limits') ,\n",
    "    (33, b'Turn right ahead'),\n",
    "    (34, b'Turn left ahead') ,\n",
    "    (35, b'Ahead only') ,\n",
    "    (36, b'Go straight or right'),\n",
    "    (37, b'Go straight or left') ,\n",
    "    (38, b'Keep right') ,\n",
    "    (39, b'Keep left'),\n",
    "    (40, b'Roundabout mandatory') ,\n",
    "    (41, b'End of no passing'),\n",
    "    (42, b'End of no passing by vehicles over 3.5 metric tons')]\n"
   ]
  },
  {
   "cell_type": "code",
   "execution_count": 2,
   "metadata": {},
   "outputs": [
    {
     "data": {
      "text/plain": [
       "{0: b'Speed limit (20km/h)',\n",
       " 1: b'Speed limit (30km/h)',\n",
       " 2: b'Speed limit (50km/h)',\n",
       " 3: b'Speed limit (60km/h)',\n",
       " 4: b'Speed limit (70km/h)',\n",
       " 5: b'Speed limit (80km/h)',\n",
       " 6: b'End of speed limit (80km/h)',\n",
       " 7: b'Speed limit (100km/h)',\n",
       " 8: b'Speed limit (120km/h)',\n",
       " 9: b'No passing',\n",
       " 10: b'No passing for vehicles over 3.5 metric tons',\n",
       " 11: b'Right-of-way at the next intersection',\n",
       " 12: b'Priority road',\n",
       " 13: b'Yield',\n",
       " 14: b'Stop',\n",
       " 15: b'No vehicles',\n",
       " 16: b'Vehicles over 3.5 metric tons prohibited',\n",
       " 17: b'No entry',\n",
       " 18: b'General caution',\n",
       " 19: b'Dangerous curve to the left',\n",
       " 20: b'Dangerous curve to the right',\n",
       " 21: b'Double curve',\n",
       " 22: b'Bumpy road',\n",
       " 23: b'Slippery road',\n",
       " 24: b'Road narrows on the right',\n",
       " 25: b'Road work',\n",
       " 26: b'Traffic signals',\n",
       " 27: b'Pedestrians',\n",
       " 28: b'Children crossing',\n",
       " 29: b'Bicycles crossing',\n",
       " 30: b'Beware of ice/snow',\n",
       " 31: b'Wild animals crossing',\n",
       " 32: b'End of all speed and passing limits',\n",
       " 33: b'Turn right ahead',\n",
       " 34: b'Turn left ahead',\n",
       " 35: b'Ahead only',\n",
       " 36: b'Go straight or right',\n",
       " 37: b'Go straight or left',\n",
       " 38: b'Keep right',\n",
       " 39: b'Keep left',\n",
       " 40: b'Roundabout mandatory',\n",
       " 41: b'End of no passing',\n",
       " 42: b'End of no passing by vehicles over 3.5 metric tons'}"
      ]
     },
     "execution_count": 2,
     "metadata": {},
     "output_type": "execute_result"
    }
   ],
   "source": [
    "classes = dict(classes)\n",
    "classes"
   ]
  },
  {
   "cell_type": "markdown",
   "metadata": {},
   "source": [
    "# Importing libraries"
   ]
  },
  {
   "cell_type": "code",
   "execution_count": 1,
   "metadata": {},
   "outputs": [],
   "source": [
    "import numpy as np\n",
    "import pandas as pd\n",
    "import matplotlib.pyplot as plt\n",
    "import seaborn as sns\n",
    "%matplotlib inline\n",
    "import pickle  # to load data."
   ]
  },
  {
   "cell_type": "markdown",
   "metadata": {},
   "source": [
    "# Import datasets"
   ]
  },
  {
   "cell_type": "code",
   "execution_count": 2,
   "metadata": {},
   "outputs": [],
   "source": [
    "with open(\"./traffic-signs-data/train.p\", mode='rb') as training_data:   # To train the model\n",
    "    train = pickle.load(training_data)  \n",
    "with open(\"./traffic-signs-data/valid.p\", mode='rb') as validation_data:  # To validate model\n",
    "    valid = pickle.load(validation_data)\n",
    "with open(\"./traffic-signs-data/test.p\", mode='rb') as testing_data:   # To test the model\n",
    "    test = pickle.load(testing_data)"
   ]
  },
  {
   "cell_type": "code",
   "execution_count": 5,
   "metadata": {},
   "outputs": [
    {
     "data": {
      "text/plain": [
       "{'sizes': array([[53, 54],\n",
       "        [42, 45],\n",
       "        [48, 52],\n",
       "        ...,\n",
       "        [29, 29],\n",
       "        [48, 49],\n",
       "        [32, 31]], dtype=uint8), 'coords': array([[ 6,  5, 48, 49],\n",
       "        [ 5,  5, 36, 40],\n",
       "        [ 6,  6, 43, 47],\n",
       "        ...,\n",
       "        [ 6,  6, 24, 24],\n",
       "        [ 5,  6, 43, 44],\n",
       "        [ 6,  5, 27, 26]], dtype=uint8), 'features': array([[[[116, 139, 174],\n",
       "          [116, 137, 171],\n",
       "          [118, 138, 172],\n",
       "          ...,\n",
       "          [ 98, 114, 143],\n",
       "          [ 97, 121, 147],\n",
       "          [ 85, 105, 130]],\n",
       " \n",
       "         [[115, 142, 176],\n",
       "          [115, 140, 174],\n",
       "          [117, 141, 175],\n",
       "          ...,\n",
       "          [119, 143, 176],\n",
       "          [120, 141, 173],\n",
       "          [120, 139, 171]],\n",
       " \n",
       "         [[117, 141, 174],\n",
       "          [117, 142, 175],\n",
       "          [114, 140, 172],\n",
       "          ...,\n",
       "          [120, 144, 179],\n",
       "          [122, 144, 179],\n",
       "          [120, 143, 177]],\n",
       " \n",
       "         ...,\n",
       " \n",
       "         [[117, 137, 167],\n",
       "          [115, 134, 164],\n",
       "          [117, 135, 164],\n",
       "          ...,\n",
       "          [115, 137, 169],\n",
       "          [116, 136, 168],\n",
       "          [118, 139, 172]],\n",
       " \n",
       "         [[116, 136, 166],\n",
       "          [114, 134, 168],\n",
       "          [113, 131, 166],\n",
       "          ...,\n",
       "          [113, 135, 167],\n",
       "          [117, 136, 165],\n",
       "          [115, 139, 167]],\n",
       " \n",
       "         [[112, 135, 167],\n",
       "          [110, 134, 165],\n",
       "          [119, 135, 165],\n",
       "          ...,\n",
       "          [115, 138, 167],\n",
       "          [117, 138, 167],\n",
       "          [114, 140, 170]]],\n",
       " \n",
       " \n",
       "        [[[ 59,  70,  61],\n",
       "          [ 87,  80,  63],\n",
       "          [ 92,  81,  63],\n",
       "          ...,\n",
       "          [ 77,  64,  67],\n",
       "          [ 71,  65,  67],\n",
       "          [ 74,  69,  68]],\n",
       " \n",
       "         [[ 59,  68,  58],\n",
       "          [ 94,  83,  65],\n",
       "          [ 95,  80,  62],\n",
       "          ...,\n",
       "          [ 77,  64,  66],\n",
       "          [ 92,  69,  70],\n",
       "          [ 85,  68,  68]],\n",
       " \n",
       "         [[ 56,  68,  58],\n",
       "          [ 90,  84,  67],\n",
       "          [ 95,  82,  64],\n",
       "          ...,\n",
       "          [ 72,  65,  66],\n",
       "          [ 80,  67,  69],\n",
       "          [ 79,  69,  70]],\n",
       " \n",
       "         ...,\n",
       " \n",
       "         [[ 48,  47,  43],\n",
       "          [ 79,  68,  57],\n",
       "          [ 80,  66,  56],\n",
       "          ...,\n",
       "          [ 68,  63,  63],\n",
       "          [ 78,  65,  65],\n",
       "          [ 76,  66,  68]],\n",
       " \n",
       "         [[ 49,  46,  45],\n",
       "          [ 78,  66,  61],\n",
       "          [ 78,  65,  58],\n",
       "          ...,\n",
       "          [ 60,  60,  61],\n",
       "          [ 68,  65,  65],\n",
       "          [ 73,  67,  67]],\n",
       " \n",
       "         [[ 51,  45,  45],\n",
       "          [ 78,  66,  61],\n",
       "          [ 79,  66,  58],\n",
       "          ...,\n",
       "          [ 62,  59,  62],\n",
       "          [ 73,  67,  70],\n",
       "          [ 75,  70,  70]]],\n",
       " \n",
       " \n",
       "        [[[ 52,  40,  38],\n",
       "          [ 51,  39,  37],\n",
       "          [ 50,  38,  37],\n",
       "          ...,\n",
       "          [ 53,  44,  46],\n",
       "          [ 54,  45,  48],\n",
       "          [ 55,  45,  48]],\n",
       " \n",
       "         [[ 59,  45,  42],\n",
       "          [ 59,  44,  41],\n",
       "          [ 56,  44,  40],\n",
       "          ...,\n",
       "          [ 52,  41,  42],\n",
       "          [ 54,  44,  45],\n",
       "          [ 55,  46,  45]],\n",
       " \n",
       "         [[ 67,  49,  44],\n",
       "          [ 65,  50,  45],\n",
       "          [ 65,  49,  45],\n",
       "          ...,\n",
       "          [ 57,  42,  39],\n",
       "          [ 55,  42,  40],\n",
       "          [ 56,  43,  40]],\n",
       " \n",
       "         ...,\n",
       " \n",
       "         [[ 28,  24,  26],\n",
       "          [ 29,  25,  27],\n",
       "          [ 29,  27,  30],\n",
       "          ...,\n",
       "          [ 27,  24,  24],\n",
       "          [ 28,  25,  24],\n",
       "          [ 29,  27,  27]],\n",
       " \n",
       "         [[ 31,  28,  29],\n",
       "          [ 37,  32,  34],\n",
       "          [ 41,  35,  37],\n",
       "          ...,\n",
       "          [ 34,  31,  28],\n",
       "          [ 42,  40,  38],\n",
       "          [ 47,  45,  45]],\n",
       " \n",
       "         [[ 32,  29,  30],\n",
       "          [ 33,  28,  28],\n",
       "          [ 44,  34,  32],\n",
       "          ...,\n",
       "          [ 41,  40,  38],\n",
       "          [ 44,  43,  43],\n",
       "          [ 47,  46,  44]]],\n",
       " \n",
       " \n",
       "        ...,\n",
       " \n",
       " \n",
       "        [[[ 24,  27,  34],\n",
       "          [ 23,  25,  32],\n",
       "          [ 24,  25,  32],\n",
       "          ...,\n",
       "          [ 26,  27,  33],\n",
       "          [ 26,  27,  34],\n",
       "          [ 26,  27,  34]],\n",
       " \n",
       "         [[ 25,  26,  33],\n",
       "          [ 25,  26,  34],\n",
       "          [ 25,  26,  33],\n",
       "          ...,\n",
       "          [ 26,  27,  34],\n",
       "          [ 27,  27,  35],\n",
       "          [ 28,  28,  36]],\n",
       " \n",
       "         [[ 26,  26,  32],\n",
       "          [ 25,  25,  32],\n",
       "          [ 25,  25,  31],\n",
       "          ...,\n",
       "          [ 26,  27,  33],\n",
       "          [ 27,  27,  33],\n",
       "          [ 27,  26,  34]],\n",
       " \n",
       "         ...,\n",
       " \n",
       "         [[ 16,  17,  21],\n",
       "          [ 15,  16,  21],\n",
       "          [ 14,  16,  21],\n",
       "          ...,\n",
       "          [ 19,  21,  30],\n",
       "          [ 20,  22,  32],\n",
       "          [ 19,  21,  30]],\n",
       " \n",
       "         [[ 16,  17,  22],\n",
       "          [ 15,  16,  21],\n",
       "          [ 14,  16,  21],\n",
       "          ...,\n",
       "          [ 19,  21,  30],\n",
       "          [ 20,  22,  32],\n",
       "          [ 19,  22,  32]],\n",
       " \n",
       "         [[ 15,  16,  21],\n",
       "          [ 15,  16,  21],\n",
       "          [ 14,  16,  21],\n",
       "          ...,\n",
       "          [ 18,  21,  30],\n",
       "          [ 19,  22,  32],\n",
       "          [ 18,  22,  31]]],\n",
       " \n",
       " \n",
       "        [[[ 47,  58,  73],\n",
       "          [ 49,  53,  67],\n",
       "          [ 59,  57,  63],\n",
       "          ...,\n",
       "          [ 39,  36,  44],\n",
       "          [ 12,  10,  12],\n",
       "          [ 10,   9,  12]],\n",
       " \n",
       "         [[ 61,  68,  84],\n",
       "          [ 61,  58,  72],\n",
       "          [ 60,  57,  67],\n",
       "          ...,\n",
       "          [ 26,  23,  31],\n",
       "          [ 12,  10,   8],\n",
       "          [ 11,   9,  11]],\n",
       " \n",
       "         [[ 66,  75,  93],\n",
       "          [ 72,  79,  99],\n",
       "          [ 67,  73,  94],\n",
       "          ...,\n",
       "          [ 36,  36,  38],\n",
       "          [ 25,  21,  14],\n",
       "          [ 13,   9,  10]],\n",
       " \n",
       "         ...,\n",
       " \n",
       "         [[ 16,  16,  19],\n",
       "          [ 15,  15,  18],\n",
       "          [ 14,  13,  17],\n",
       "          ...,\n",
       "          [ 32,  31,  37],\n",
       "          [ 36,  37,  44],\n",
       "          [ 24,  24,  23]],\n",
       " \n",
       "         [[ 13,  12,  15],\n",
       "          [ 13,  12,  14],\n",
       "          [ 12,  11,  13],\n",
       "          ...,\n",
       "          [ 26,  28,  33],\n",
       "          [ 32,  35,  39],\n",
       "          [ 28,  27,  24]],\n",
       " \n",
       "         [[ 12,  11,  14],\n",
       "          [ 12,  11,  14],\n",
       "          [ 12,  10,  12],\n",
       "          ...,\n",
       "          [ 28,  32,  40],\n",
       "          [ 36,  37,  40],\n",
       "          [ 29,  27,  22]]],\n",
       " \n",
       " \n",
       "        [[[ 10,  10,  13],\n",
       "          [ 10,  10,  13],\n",
       "          [ 10,   9,  12],\n",
       "          ...,\n",
       "          [ 13,  12,  15],\n",
       "          [ 13,  12,  15],\n",
       "          [ 13,  12,  16]],\n",
       " \n",
       "         [[ 12,  11,  14],\n",
       "          [  9,   9,  12],\n",
       "          [  9,   9,  12],\n",
       "          ...,\n",
       "          [ 13,  12,  14],\n",
       "          [ 13,  12,  15],\n",
       "          [ 13,  12,  16]],\n",
       " \n",
       "         [[ 11,   9,  11],\n",
       "          [  9,   8,  11],\n",
       "          [  9,   9,  12],\n",
       "          ...,\n",
       "          [ 13,  12,  14],\n",
       "          [ 13,  12,  15],\n",
       "          [ 13,  12,  16]],\n",
       " \n",
       "         ...,\n",
       " \n",
       "         [[ 11,   9,  13],\n",
       "          [ 10,   9,  12],\n",
       "          [ 11,  10,  13],\n",
       "          ...,\n",
       "          [ 11,  10,  13],\n",
       "          [ 10,   9,  12],\n",
       "          [ 12,  11,  14]],\n",
       " \n",
       "         [[ 11,  10,  14],\n",
       "          [ 11,  10,  14],\n",
       "          [ 11,  10,  14],\n",
       "          ...,\n",
       "          [  9,   9,  12],\n",
       "          [  9,   9,  11],\n",
       "          [ 12,  11,  13]],\n",
       " \n",
       "         [[ 10,  10,  13],\n",
       "          [ 10,   9,  12],\n",
       "          [ 11,   9,  12],\n",
       "          ...,\n",
       "          [ 10,  10,  13],\n",
       "          [  9,  10,  12],\n",
       "          [ 11,  11,  13]]]], dtype=uint8), 'labels': array([16,  1, 38, ...,  6,  7, 10], dtype=uint8)}"
      ]
     },
     "execution_count": 5,
     "metadata": {},
     "output_type": "execute_result"
    }
   ],
   "source": [
    "test"
   ]
  },
  {
   "cell_type": "code",
   "execution_count": 3,
   "metadata": {},
   "outputs": [],
   "source": [
    "X_train , y_train = train['features'] , train['labels'] \n",
    "X_val , y_val = valid['features'] , valid['labels']\n",
    "X_test , y_test = test['features'] , test['labels']"
   ]
  },
  {
   "cell_type": "code",
   "execution_count": 7,
   "metadata": {},
   "outputs": [
    {
     "data": {
      "text/plain": [
       "(34799, 32, 32, 3)"
      ]
     },
     "execution_count": 7,
     "metadata": {},
     "output_type": "execute_result"
    }
   ],
   "source": [
    "X_train.shape"
   ]
  },
  {
   "cell_type": "code",
   "execution_count": 8,
   "metadata": {},
   "outputs": [
    {
     "data": {
      "text/plain": [
       "(4410, 32, 32, 3)"
      ]
     },
     "execution_count": 8,
     "metadata": {},
     "output_type": "execute_result"
    }
   ],
   "source": [
    "X_val.shape"
   ]
  },
  {
   "cell_type": "code",
   "execution_count": 9,
   "metadata": {},
   "outputs": [
    {
     "data": {
      "text/plain": [
       "(12630, 32, 32, 3)"
      ]
     },
     "execution_count": 9,
     "metadata": {},
     "output_type": "execute_result"
    }
   ],
   "source": [
    "X_test.shape"
   ]
  },
  {
   "cell_type": "raw",
   "metadata": {},
   "source": [
    "Observation - There are 34799 colored images with 32*32 size in training data.\n",
    "            - There are 4410 colored images with 32*32 size in validation data.\n",
    "            - There are 12630 colored images with 32*32 size in test data. "
   ]
  },
  {
   "cell_type": "markdown",
   "metadata": {},
   "source": [
    "# Image Exploration"
   ]
  },
  {
   "cell_type": "code",
   "execution_count": 10,
   "metadata": {},
   "outputs": [
    {
     "data": {
      "text/plain": [
       "<matplotlib.image.AxesImage at 0x7f37d38d6e80>"
      ]
     },
     "execution_count": 10,
     "metadata": {},
     "output_type": "execute_result"
    },
    {
     "data": {
      "image/png": "[encoded data removed]",
      "text/plain": [
       "<Figure size 432x288 with 1 Axes>"
      ]
     },
     "metadata": {
      "needs_background": "light"
     },
     "output_type": "display_data"
    }
   ],
   "source": [
    "plt.imshow(X_train[1000])"
   ]
  },
  {
   "cell_type": "code",
   "execution_count": 11,
   "metadata": {},
   "outputs": [
    {
     "data": {
      "text/plain": [
       "36"
      ]
     },
     "execution_count": 11,
     "metadata": {},
     "output_type": "execute_result"
    }
   ],
   "source": [
    "y_train[1000]"
   ]
  },
  {
   "cell_type": "code",
   "execution_count": 12,
   "metadata": {},
   "outputs": [
    {
     "data": {
      "image/png": "[encoded data removed]",
      "text/plain": [
       "<Figure size 720x720 with 5 Axes>"
      ]
     },
     "metadata": {
      "needs_background": "light"
     },
     "output_type": "display_data"
    }
   ],
   "source": [
    "# Randomly checking images.\n",
    "\n",
    "fig , axes = plt.subplots(nrows=1 , ncols=5 , figsize=(10,10))\n",
    "axes = axes.ravel()  # Converts matrix into 1D array\n",
    "\n",
    "for i in np.arange(0,5):\n",
    "    index = np.random.randint(0,len(X_train))  # Pick a random number\n",
    "    axes[i].imshow(X_train[index])\n",
    "    axes[i].set_title(y_train[index])  # prints label coresponding to image\n",
    "    axes[i].axis('off')  # Removing axes for images. \n",
    "    \n",
    "plt.subplots_adjust(hspace=0.4)  # Expanding space between images"
   ]
  },
  {
   "cell_type": "markdown",
   "metadata": {},
   "source": [
    "# Data Preparation"
   ]
  },
  {
   "cell_type": "code",
   "execution_count": 4,
   "metadata": {},
   "outputs": [],
   "source": [
    "# Shuffling images\n",
    "\n",
    "from sklearn.utils import shuffle\n",
    "\n",
    "X_train , y_train = shuffle(X_train,y_train) "
   ]
  },
  {
   "cell_type": "code",
   "execution_count": 5,
   "metadata": {},
   "outputs": [],
   "source": [
    "# Since le-net takes gray scale images as inputs, converting images in training data to gray scale\n",
    "\n",
    "X_train_gray = np.sum(X_train/3 , axis=3 , keepdims=True)\n",
    "X_val_gray = np.sum(X_val/3 , axis=3 , keepdims=True)\n",
    "X_test_gray = np.sum(X_test/3 , axis=3 , keepdims=True)"
   ]
  },
  {
   "cell_type": "code",
   "execution_count": 15,
   "metadata": {},
   "outputs": [
    {
     "data": {
      "text/plain": [
       "(34799, 32, 32, 1)"
      ]
     },
     "execution_count": 15,
     "metadata": {},
     "output_type": "execute_result"
    }
   ],
   "source": [
    "X_train_gray.shape"
   ]
  },
  {
   "cell_type": "code",
   "execution_count": 16,
   "metadata": {},
   "outputs": [
    {
     "data": {
      "text/plain": [
       "(4410, 32, 32, 1)"
      ]
     },
     "execution_count": 16,
     "metadata": {},
     "output_type": "execute_result"
    }
   ],
   "source": [
    "X_val_gray.shape"
   ]
  },
  {
   "cell_type": "code",
   "execution_count": 17,
   "metadata": {},
   "outputs": [
    {
     "data": {
      "text/plain": [
       "(12630, 32, 32, 1)"
      ]
     },
     "execution_count": 17,
     "metadata": {},
     "output_type": "execute_result"
    }
   ],
   "source": [
    "X_test_gray.shape"
   ]
  },
  {
   "cell_type": "code",
   "execution_count": 6,
   "metadata": {},
   "outputs": [],
   "source": [
    "# Normalising training , validation and testing images \n",
    "\n",
    "X_train_gray_norm = (X_train_gray - 128) / 128\n",
    "X_val_gray_norm = (X_val_gray - 128) / 128\n",
    "X_test_gray_norm = (X_test_gray - 128) / 128"
   ]
  },
  {
   "cell_type": "code",
   "execution_count": 19,
   "metadata": {},
   "outputs": [
    {
     "data": {
      "text/plain": [
       "<matplotlib.image.AxesImage at 0x7f37d215a5c0>"
      ]
     },
     "execution_count": 19,
     "metadata": {},
     "output_type": "execute_result"
    },
    {
     "data": {
      "image/png": "[encoded data removed]",
      "text/plain": [
       "<Figure size 432x288 with 1 Axes>"
      ]
     },
     "metadata": {
      "needs_background": "light"
     },
     "output_type": "display_data"
    }
   ],
   "source": [
    "plt.imshow(X_train_gray_norm[610].squeeze() , cmap='gray')"
   ]
  },
  {
   "cell_type": "code",
   "execution_count": 20,
   "metadata": {},
   "outputs": [
    {
     "data": {
      "text/plain": [
       "<matplotlib.image.AxesImage at 0x7f37cfe50550>"
      ]
     },
     "execution_count": 20,
     "metadata": {},
     "output_type": "execute_result"
    },
    {
     "data": {
      "image/png": "[encoded data removed]",
      "text/plain": [
       "<Figure size 432x288 with 1 Axes>"
      ]
     },
     "metadata": {
      "needs_background": "light"
     },
     "output_type": "display_data"
    }
   ],
   "source": [
    "plt.imshow(X_train[610])"
   ]
  },
  {
   "cell_type": "code",
   "execution_count": 21,
   "metadata": {},
   "outputs": [
    {
     "data": {
      "text/plain": [
       "(34799, 32, 32, 1)"
      ]
     },
     "execution_count": 21,
     "metadata": {},
     "output_type": "execute_result"
    }
   ],
   "source": [
    "X_train_gray_norm.shape"
   ]
  },
  {
   "cell_type": "markdown",
   "metadata": {},
   "source": [
    "# Model Building"
   ]
  },
  {
   "cell_type": "markdown",
   "metadata": {},
   "source": [
    "The model consists of the following layers: \n",
    "\n",
    "- STEP 1: THE FIRST CONVOLUTIONAL LAYER #1\n",
    "    - Input = 32x32x1\n",
    "    - Output = 28x28x6\n",
    "    - Output = (Input-filter+1)/Stride* => (32-5+1)/1=28\n",
    "    - Used a 5x5 Filter with input depth of 3 and output depth of 6\n",
    "    - Apply a RELU Activation function to the output\n",
    "    - pooling for input, Input = 28x28x6 and Output = 14x14x6\n",
    "\n",
    "- STEP 2: THE SECOND CONVOLUTIONAL LAYER #2\n",
    "    - Input = 14x14x6\n",
    "    - Output = 10x10x16\n",
    "    - Layer 2: Convolutional layer with Output = 10x10x16\n",
    "    - Output = (Input-filter+1)/strides => 10 = 14-5+1/1\n",
    "    - Apply a RELU Activation function to the output\n",
    "    - Pooling with Input = 10x10x16 and Output = 5x5x16\n",
    "\n",
    "- STEP 3: FLATTENING THE NETWORK\n",
    "    - Flatten the network with Input = 5x5x16 and Output = 400\n",
    "\n",
    "- STEP 4: FULLY CONNECTED LAYER\n",
    "    - Layer 3: Fully Connected layer with Input = 400 and Output = 120\n",
    "    - Apply a RELU Activation function to the output\n",
    "\n",
    "- STEP 5: ANOTHER FULLY CONNECTED LAYER\n",
    "    - Layer 4: Fully Connected Layer with Input = 120 and Output = 84\n",
    "    - Apply a RELU Activation function to the output\n",
    "\n",
    "- STEP 6: FULLY CONNECTED LAYER\n",
    "    - Layer 5: Fully Connected layer with Input = 84 and Output = 43"
   ]
  },
  {
   "cell_type": "code",
   "execution_count": 7,
   "metadata": {},
   "outputs": [
    {
     "name": "stderr",
     "output_type": "stream",
     "text": [
      "Using TensorFlow backend.\n"
     ]
    }
   ],
   "source": [
    "# importing libraries\n",
    "\n",
    "from keras.models import Sequential   # Topology of network\n",
    "from keras.layers import Conv2D , MaxPooling2D  , AveragePooling2D , Dense , Flatten , Dropout\n",
    "from keras.optimizers import Adam\n",
    "from keras.callbacks import TensorBoard\n"
   ]
  },
  {
   "cell_type": "code",
   "execution_count": 8,
   "metadata": {},
   "outputs": [
    {
     "name": "stderr",
     "output_type": "stream",
     "text": [
      "WARNING: Logging before flag parsing goes to stderr.\n",
      "W0807 14:38:37.301828 140020327724864 deprecation_wrapper.py:119] From /usr/local/anaconda/lib/python3.6/site-packages/keras/backend/tensorflow_backend.py:72: The name tf.get_default_graph is deprecated. Please use tf.compat.v1.get_default_graph instead.\n",
      "\n",
      "W0807 14:38:37.321450 140020327724864 deprecation_wrapper.py:119] From /usr/local/anaconda/lib/python3.6/site-packages/keras/backend/tensorflow_backend.py:515: The name tf.placeholder is deprecated. Please use tf.compat.v1.placeholder instead.\n",
      "\n",
      "W0807 14:38:37.325247 140020327724864 deprecation_wrapper.py:119] From /usr/local/anaconda/lib/python3.6/site-packages/keras/backend/tensorflow_backend.py:4048: The name tf.random_uniform is deprecated. Please use tf.random.uniform instead.\n",
      "\n",
      "W0807 14:38:37.342421 140020327724864 deprecation_wrapper.py:119] From /usr/local/anaconda/lib/python3.6/site-packages/keras/backend/tensorflow_backend.py:3882: The name tf.nn.avg_pool is deprecated. Please use tf.nn.avg_pool2d instead.\n",
      "\n"
     ]
    }
   ],
   "source": [
    "model = Sequential()\n",
    "\n",
    "\n",
    "# Step - 1\n",
    "model.add(Conv2D(kernel_size=(5,5) , filters=6 , activation='relu' , input_shape=(32,32,1)))\n",
    "model.add(AveragePooling2D())\n",
    "\n",
    "# Step - 2\n",
    "model.add(Conv2D(kernel_size=(5,5) , filters=16 , activation='relu'))\n",
    "model.add(AveragePooling2D())\n",
    "\n",
    "# Step - 3\n",
    "model.add(Flatten())\n",
    "\n",
    "# Step - 4\n",
    "model.add(Dense(units=120 , activation='relu'))\n",
    "\n",
    "# Step - 5\n",
    "model.add(Dense(units=84 , activation='relu'))\n",
    "\n",
    "# Step - 6\n",
    "model.add(Dense(units=43 , activation='softmax'))"
   ]
  },
  {
   "cell_type": "markdown",
   "metadata": {},
   "source": [
    "# Compiling model"
   ]
  },
  {
   "cell_type": "code",
   "execution_count": 9,
   "metadata": {},
   "outputs": [
    {
     "name": "stderr",
     "output_type": "stream",
     "text": [
      "W0807 14:38:37.434186 140020327724864 deprecation_wrapper.py:119] From /usr/local/anaconda/lib/python3.6/site-packages/keras/optimizers.py:782: The name tf.train.Optimizer is deprecated. Please use tf.compat.v1.train.Optimizer instead.\n",
      "\n",
      "W0807 14:38:37.440826 140020327724864 deprecation_wrapper.py:119] From /usr/local/anaconda/lib/python3.6/site-packages/keras/backend/tensorflow_backend.py:3264: The name tf.log is deprecated. Please use tf.math.log instead.\n",
      "\n"
     ]
    }
   ],
   "source": [
    "model.compile(loss='sparse_categorical_crossentropy' , optimizer=Adam(lr=0.01) , metrics=['accuracy'])"
   ]
  },
  {
   "cell_type": "markdown",
   "metadata": {},
   "source": [
    "# Training model"
   ]
  },
  {
   "cell_type": "code",
   "execution_count": 10,
   "metadata": {},
   "outputs": [
    {
     "name": "stderr",
     "output_type": "stream",
     "text": [
      "W0807 14:38:37.565066 140020327724864 deprecation.py:323] From /usr/local/anaconda/lib/python3.6/site-packages/tensorflow/python/ops/math_grad.py:1250: add_dispatch_support.<locals>.wrapper (from tensorflow.python.ops.array_ops) is deprecated and will be removed in a future version.\n",
      "Instructions for updating:\n",
      "Use tf.where in 2.0, which has the same broadcast rule as np.where\n",
      "W0807 14:38:37.618630 140020327724864 deprecation_wrapper.py:119] From /usr/local/anaconda/lib/python3.6/site-packages/keras/backend/tensorflow_backend.py:984: The name tf.assign_add is deprecated. Please use tf.compat.v1.assign_add instead.\n",
      "\n"
     ]
    },
    {
     "name": "stdout",
     "output_type": "stream",
     "text": [
      "Train on 34799 samples, validate on 4410 samples\n",
      "Epoch 1/10\n",
      "34799/34799 [==============================] - 4s 112us/step - loss: 2.1336 - acc: 0.4091 - val_loss: 1.0719 - val_acc: 0.6580\n",
      "Epoch 2/10\n",
      "34799/34799 [==============================] - 3s 95us/step - loss: 0.4687 - acc: 0.8594 - val_loss: 0.7060 - val_acc: 0.7914\n",
      "Epoch 3/10\n",
      "34799/34799 [==============================] - 3s 96us/step - loss: 0.2083 - acc: 0.9416 - val_loss: 0.5288 - val_acc: 0.8610\n",
      "Epoch 4/10\n",
      "34799/34799 [==============================] - 3s 95us/step - loss: 0.1346 - acc: 0.9620 - val_loss: 0.6033 - val_acc: 0.8560\n",
      "Epoch 5/10\n",
      "34799/34799 [==============================] - 3s 94us/step - loss: 0.0889 - acc: 0.9745 - val_loss: 0.4934 - val_acc: 0.8941\n",
      "Epoch 6/10\n",
      "34799/34799 [==============================] - 3s 94us/step - loss: 0.0629 - acc: 0.9828 - val_loss: 0.5198 - val_acc: 0.9000\n",
      "Epoch 7/10\n",
      "34799/34799 [==============================] - 4s 103us/step - loss: 0.0505 - acc: 0.9855 - val_loss: 0.4635 - val_acc: 0.8862\n",
      "Epoch 8/10\n",
      "34799/34799 [==============================] - 4s 101us/step - loss: 0.0469 - acc: 0.9870 - val_loss: 0.4654 - val_acc: 0.9016\n",
      "Epoch 9/10\n",
      "34799/34799 [==============================] - 3s 94us/step - loss: 0.0595 - acc: 0.9826 - val_loss: 0.5065 - val_acc: 0.8889\n",
      "Epoch 10/10\n",
      "34799/34799 [==============================] - 3s 95us/step - loss: 0.0451 - acc: 0.9865 - val_loss: 0.3643 - val_acc: 0.9098\n"
     ]
    }
   ],
   "source": [
    "history = model.fit(x = X_train_gray_norm , y = y_train , batch_size=500 , epochs=10 , verbose=1,\n",
    "         validation_data=(X_val_gray_norm , y_val))"
   ]
  },
  {
   "cell_type": "markdown",
   "metadata": {},
   "source": [
    "# Evaluating model on test data"
   ]
  },
  {
   "cell_type": "code",
   "execution_count": 11,
   "metadata": {},
   "outputs": [
    {
     "name": "stdout",
     "output_type": "stream",
     "text": [
      "12630/12630 [==============================] - 1s 90us/step\n"
     ]
    }
   ],
   "source": [
    "evaluate = model.evaluate(X_test_gray_norm , y_test)"
   ]
  },
  {
   "cell_type": "code",
   "execution_count": 12,
   "metadata": {},
   "outputs": [
    {
     "name": "stdout",
     "output_type": "stream",
     "text": [
      "Accuracy on test data is 0.8921615201805851\n"
     ]
    }
   ],
   "source": [
    "print('Accuracy on test data is {}'.format(evaluate[1]))"
   ]
  },
  {
   "cell_type": "code",
   "execution_count": 15,
   "metadata": {},
   "outputs": [
    {
     "data": {
      "text/plain": [
       "[0.7517006893276897,\n",
       " 0.848752832331625,\n",
       " 0.8766439824688191,\n",
       " 0.8818594067275118,\n",
       " 0.8741496622967883,\n",
       " 0.911564620849497,\n",
       " 0.9283446773650155,\n",
       " 0.9215419584391068,\n",
       " 0.9199546463365187,\n",
       " 0.9108843547957284]"
      ]
     },
     "execution_count": 15,
     "metadata": {},
     "output_type": "execute_result"
    }
   ],
   "source": [
    "history.history['val_acc']"
   ]
  },
  {
   "cell_type": "code",
   "execution_count": 16,
   "metadata": {},
   "outputs": [
    {
     "data": {
      "text/plain": [
       "<matplotlib.legend.Legend at 0x7fae043b28d0>"
      ]
     },
     "execution_count": 16,
     "metadata": {},
     "output_type": "execute_result"
    },
    {
     "data": {
      "image/png": "[encoded data removed]",
      "text/plain": [
       "<Figure size 432x288 with 1 Axes>"
      ]
     },
     "metadata": {
      "needs_background": "light"
     },
     "output_type": "display_data"
    }
   ],
   "source": [
    "accuracy = history.history['acc']\n",
    "val_acc = history.history['val_acc']\n",
    "loss = history.history['loss']\n",
    "val_los = history.history['val_loss']\n",
    "epochs = range(len(accuracy))\n",
    "\n",
    "plt.plot(epochs , accuracy , 'b-' , label = 'Training accuracy')\n",
    "plt.plot(epochs , val_acc , 'r-' , label = 'Training accuracy')\n",
    "plt.xlabel('# epochs')\n",
    "plt.ylabel('acuracy')\n",
    "plt.title('Accuracy vs epochs')\n",
    "plt.legend()"
   ]
  },
  {
   "cell_type": "markdown",
   "metadata": {},
   "source": [
    "Observation - Initial training accuracy was low but gradually increased as more number of training samples is used to train model."
   ]
  },
  {
   "cell_type": "code",
   "execution_count": 18,
   "metadata": {},
   "outputs": [
    {
     "data": {
      "text/plain": [
       "<matplotlib.legend.Legend at 0x7fae042d5e80>"
      ]
     },
     "execution_count": 18,
     "metadata": {},
     "output_type": "execute_result"
    },
    {
     "data": {
      "image/png": "[encoded data removed]",
      "text/plain": [
       "<Figure size 432x288 with 1 Axes>"
      ]
     },
     "metadata": {
      "needs_background": "light"
     },
     "output_type": "display_data"
    }
   ],
   "source": [
    "plt.plot(epochs , loss , 'b-' , label = 'Training loss')\n",
    "plt.plot(epochs , val_los , 'r-' , label = 'validation loss')\n",
    "plt.xlabel('# epochs')\n",
    "plt.ylabel('loss')\n",
    "plt.title('loss vs epochs')\n",
    "plt.legend()"
   ]
  },
  {
   "cell_type": "raw",
   "metadata": {},
   "source": [
    "Observation - Initial training loss was high but as model is trained with more data loss was gradually decreased.\n",
    "            - There are fluctuations in validation loss but overall decreased."
   ]
  },
  {
   "cell_type": "markdown",
   "metadata": {},
   "source": [
    "# Predictions"
   ]
  },
  {
   "cell_type": "code",
   "execution_count": 13,
   "metadata": {},
   "outputs": [],
   "source": [
    "predicted_classes = model.predict_classes(X_test_gray_norm)"
   ]
  },
  {
   "cell_type": "markdown",
   "metadata": {},
   "source": [
    "# Plotting predictions"
   ]
  },
  {
   "cell_type": "code",
   "execution_count": 14,
   "metadata": {},
   "outputs": [
    {
     "data": {
      "image/png": "[encoded data removed]",
      "text/plain": [
       "<Figure size 720x720 with 16 Axes>"
      ]
     },
     "metadata": {
      "needs_background": "light"
     },
     "output_type": "display_data"
    }
   ],
   "source": [
    "fig , axes = plt.subplots(4,4,figsize=(10,10))\n",
    "axes = axes.ravel()\n",
    "\n",
    "for i in range(0,16):\n",
    "    axes[i].imshow(X_test[i])\n",
    "    axes[i].set_title('Prediction = {} \\n True = {}'.format(predicted_classes[i] , y_test[i]))\n",
    "    axes[i].axis('off')\n",
    "plt.subplots_adjust(wspace=1)"
   ]
  }
 ],
 "metadata": {
  "kernelspec": {
   "display_name": "Python 3",
   "language": "python",
   "name": "python3"
  },
  "language_info": {
   "codemirror_mode": {
    "name": "ipython",
    "version": 3
   },
   "file_extension": ".py",
   "mimetype": "text/x-python",
   "name": "python",
   "nbconvert_exporter": "python",
   "pygments_lexer": "ipython3",
   "version": "3.8.3"
  },
  "toc": {
   "base_numbering": 1,
   "nav_menu": {},
   "number_sections": true,
   "sideBar": true,
   "skip_h1_title": false,
   "title_cell": "Table of Contents",
   "title_sidebar": "Contents",
   "toc_cell": false,
   "toc_position": {},
   "toc_section_display": true,
   "toc_window_display": false
  }
 },
 "nbformat": 4,
 "nbformat_minor": 2
}
