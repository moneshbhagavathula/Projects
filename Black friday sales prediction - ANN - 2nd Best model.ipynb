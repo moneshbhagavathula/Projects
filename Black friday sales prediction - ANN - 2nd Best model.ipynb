{
 "cells": [
  {
   "cell_type": "raw",
   "metadata": {},
   "source": [
    "Problem Statement:\n",
    "\n",
    "\n",
    "A retail company “ABC Private Limited” wants to understand the customer purchase behaviour (specifically, purchase amount) \n",
    "against various products of different categories.\n",
    "\n",
    "They want to build a model to predict the purchase amount of customer against various products which will help them to \n",
    "create personalized offer for customers against different products."
   ]
  },
  {
   "cell_type": "markdown",
   "metadata": {},
   "source": [
    "# Importing libraries"
   ]
  },
  {
   "cell_type": "code",
   "execution_count": 1,
   "metadata": {},
   "outputs": [],
   "source": [
    "import numpy as np\n",
    "import pandas as pd\n",
    "import seaborn as sns\n",
    "import matplotlib.pyplot as plt\n",
    "%matplotlib inline"
   ]
  },
  {
   "cell_type": "markdown",
   "metadata": {},
   "source": [
    "# Importing data"
   ]
  },
  {
   "cell_type": "code",
   "execution_count": 2,
   "metadata": {},
   "outputs": [
    {
     "data": {
      "text/plain": [
       "'/home/monesh04246052/Projects/Project 1 - Black Friday Sales prediction /ML algorithms'"
      ]
     },
     "execution_count": 2,
     "metadata": {},
     "output_type": "execute_result"
    }
   ],
   "source": [
    "pwd"
   ]
  },
  {
   "cell_type": "code",
   "execution_count": 3,
   "metadata": {},
   "outputs": [
    {
     "data": {
      "text/html": [
       "<div>\n",
       "<style scoped>\n",
       "    .dataframe tbody tr th:only-of-type {\n",
       "        vertical-align: middle;\n",
       "    }\n",
       "\n",
       "    .dataframe tbody tr th {\n",
       "        vertical-align: top;\n",
       "    }\n",
       "\n",
       "    .dataframe thead th {\n",
       "        text-align: right;\n",
       "    }\n",
       "</style>\n",
       "<table border=\"1\" class=\"dataframe\">\n",
       "  <thead>\n",
       "    <tr style=\"text-align: right;\">\n",
       "      <th></th>\n",
       "      <th>User_ID</th>\n",
       "      <th>Product_ID</th>\n",
       "      <th>Gender</th>\n",
       "      <th>Age</th>\n",
       "      <th>Occupation</th>\n",
       "      <th>City_Category</th>\n",
       "      <th>Stay_In_Current_City_Years</th>\n",
       "      <th>Marital_Status</th>\n",
       "      <th>Product_Category_1</th>\n",
       "      <th>Product_Category_2</th>\n",
       "      <th>Product_Category_3</th>\n",
       "      <th>Purchase</th>\n",
       "    </tr>\n",
       "  </thead>\n",
       "  <tbody>\n",
       "    <tr>\n",
       "      <td>0</td>\n",
       "      <td>1000001</td>\n",
       "      <td>P00069042</td>\n",
       "      <td>F</td>\n",
       "      <td>0-17</td>\n",
       "      <td>10</td>\n",
       "      <td>A</td>\n",
       "      <td>2</td>\n",
       "      <td>0</td>\n",
       "      <td>3</td>\n",
       "      <td>NaN</td>\n",
       "      <td>NaN</td>\n",
       "      <td>8370</td>\n",
       "    </tr>\n",
       "    <tr>\n",
       "      <td>1</td>\n",
       "      <td>1000001</td>\n",
       "      <td>P00248942</td>\n",
       "      <td>F</td>\n",
       "      <td>0-17</td>\n",
       "      <td>10</td>\n",
       "      <td>A</td>\n",
       "      <td>2</td>\n",
       "      <td>0</td>\n",
       "      <td>1</td>\n",
       "      <td>6.0</td>\n",
       "      <td>14.0</td>\n",
       "      <td>15200</td>\n",
       "    </tr>\n",
       "    <tr>\n",
       "      <td>2</td>\n",
       "      <td>1000001</td>\n",
       "      <td>P00087842</td>\n",
       "      <td>F</td>\n",
       "      <td>0-17</td>\n",
       "      <td>10</td>\n",
       "      <td>A</td>\n",
       "      <td>2</td>\n",
       "      <td>0</td>\n",
       "      <td>12</td>\n",
       "      <td>NaN</td>\n",
       "      <td>NaN</td>\n",
       "      <td>1422</td>\n",
       "    </tr>\n",
       "  </tbody>\n",
       "</table>\n",
       "</div>"
      ],
      "text/plain": [
       "   User_ID Product_ID Gender   Age  Occupation City_Category  \\\n",
       "0  1000001  P00069042      F  0-17          10             A   \n",
       "1  1000001  P00248942      F  0-17          10             A   \n",
       "2  1000001  P00087842      F  0-17          10             A   \n",
       "\n",
       "  Stay_In_Current_City_Years  Marital_Status  Product_Category_1  \\\n",
       "0                          2               0                   3   \n",
       "1                          2               0                   1   \n",
       "2                          2               0                  12   \n",
       "\n",
       "   Product_Category_2  Product_Category_3  Purchase  \n",
       "0                 NaN                 NaN      8370  \n",
       "1                 6.0                14.0     15200  \n",
       "2                 NaN                 NaN      1422  "
      ]
     },
     "execution_count": 3,
     "metadata": {},
     "output_type": "execute_result"
    }
   ],
   "source": [
    "sales = pd.read_csv('/home/monesh04246052/Projects/Project 1 - Black Friday Sales prediction /Datasets/train_file/train.csv')\n",
    "sales.head(3)"
   ]
  },
  {
   "cell_type": "code",
   "execution_count": 4,
   "metadata": {},
   "outputs": [
    {
     "name": "stdout",
     "output_type": "stream",
     "text": [
      "<class 'pandas.core.frame.DataFrame'>\n",
      "RangeIndex: 550068 entries, 0 to 550067\n",
      "Data columns (total 12 columns):\n",
      "User_ID                       550068 non-null int64\n",
      "Product_ID                    550068 non-null object\n",
      "Gender                        550068 non-null object\n",
      "Age                           550068 non-null object\n",
      "Occupation                    550068 non-null int64\n",
      "City_Category                 550068 non-null object\n",
      "Stay_In_Current_City_Years    550068 non-null object\n",
      "Marital_Status                550068 non-null int64\n",
      "Product_Category_1            550068 non-null int64\n",
      "Product_Category_2            376430 non-null float64\n",
      "Product_Category_3            166821 non-null float64\n",
      "Purchase                      550068 non-null int64\n",
      "dtypes: float64(2), int64(5), object(5)\n",
      "memory usage: 50.4+ MB\n"
     ]
    }
   ],
   "source": [
    "sales.info()"
   ]
  },
  {
   "cell_type": "raw",
   "metadata": {},
   "source": [
    "1) There are 550068 instances.\n",
    "2) There are missing values in \"Product_Category_2\" and \"Product_Category_3\"."
   ]
  },
  {
   "cell_type": "markdown",
   "metadata": {},
   "source": [
    "# Summary"
   ]
  },
  {
   "cell_type": "code",
   "execution_count": 5,
   "metadata": {},
   "outputs": [
    {
     "data": {
      "text/plain": [
       "count    550068.000000\n",
       "mean       9263.968713\n",
       "std        5023.065394\n",
       "min          12.000000\n",
       "25%        5823.000000\n",
       "50%        8047.000000\n",
       "75%       12054.000000\n",
       "max       23961.000000\n",
       "Name: Purchase, dtype: float64"
      ]
     },
     "execution_count": 5,
     "metadata": {},
     "output_type": "execute_result"
    }
   ],
   "source": [
    "sales['Purchase'].describe()"
   ]
  },
  {
   "cell_type": "markdown",
   "metadata": {},
   "source": [
    "# Preprocessing the data"
   ]
  },
  {
   "cell_type": "code",
   "execution_count": 6,
   "metadata": {},
   "outputs": [],
   "source": [
    "sales_1 = sales.copy()"
   ]
  },
  {
   "cell_type": "code",
   "execution_count": 7,
   "metadata": {},
   "outputs": [
    {
     "data": {
      "text/plain": [
       "26-35    219587\n",
       "36-45    110013\n",
       "18-25     99660\n",
       "46-50     45701\n",
       "51-55     38501\n",
       "55+       21504\n",
       "0-17      15102\n",
       "Name: Age, dtype: int64"
      ]
     },
     "execution_count": 7,
     "metadata": {},
     "output_type": "execute_result"
    }
   ],
   "source": [
    "sales_1['Age'].value_counts()"
   ]
  },
  {
   "cell_type": "markdown",
   "metadata": {},
   "source": [
    " --> Creating Custom Column Transformers"
   ]
  },
  {
   "cell_type": "code",
   "execution_count": 8,
   "metadata": {},
   "outputs": [],
   "source": [
    "from sklearn.base import BaseEstimator , TransformerMixin\n",
    "\n",
    "class ColumnTransfomer(BaseEstimator,TransformerMixin):\n",
    "    \n",
    "    def __init__(self , X = True):\n",
    "        self.X = X\n",
    "        \n",
    "    def fit(self , X):\n",
    "        return self   # Do nothing\n",
    "    \n",
    "    def transform(self,X):\n",
    "        \n",
    "        x = {'0-17':0 , '18-25':1 , '26-35':2 , '36-45':3 , '46-50':4 , '51-55':5 , '55+':6}\n",
    "        X['Age'] = X['Age'].map(x)   # Encoding feature 'Age'.\n",
    "        X['Gender'] = X['Gender'].map({'M':0 , 'F':1})   # Label Encoding feature 'Gender'.\n",
    "        X.drop('Occupation',inplace=True,axis=1) # Dropping feature 'Occupation'.\n",
    "        X.drop('City_Category',inplace = True , axis=1) # Dropping feature 'City_Category'.\n",
    "        X.drop('Stay_In_Current_City_Years',inplace=True,axis=1)   \n",
    "        X.drop('User_ID',inplace=True,axis=1)\n",
    "        X.drop('Product_ID',inplace=True,axis=1)"
   ]
  },
  {
   "cell_type": "raw",
   "metadata": {},
   "source": [
    "1) We removed Occupation because , maximum purchase amount in the data is app. 24000 which is a reasonable amount to be spent.\n",
    "   So considering Ocuupation as unwanted data , it is removed.\n",
    "    \n",
    "2) Considering this is ONLINE platform, features 'City_category' and 'Stay_In_Current_City_Years' ,does not effect in   predicting purchase amount. So dropping it."
   ]
  },
  {
   "cell_type": "code",
   "execution_count": 9,
   "metadata": {},
   "outputs": [],
   "source": [
    "col_trans = ColumnTransfomer()"
   ]
  },
  {
   "cell_type": "code",
   "execution_count": 10,
   "metadata": {},
   "outputs": [],
   "source": [
    "col_trans.fit_transform(sales_1)"
   ]
  },
  {
   "cell_type": "code",
   "execution_count": 11,
   "metadata": {},
   "outputs": [
    {
     "data": {
      "text/html": [
       "<div>\n",
       "<style scoped>\n",
       "    .dataframe tbody tr th:only-of-type {\n",
       "        vertical-align: middle;\n",
       "    }\n",
       "\n",
       "    .dataframe tbody tr th {\n",
       "        vertical-align: top;\n",
       "    }\n",
       "\n",
       "    .dataframe thead th {\n",
       "        text-align: right;\n",
       "    }\n",
       "</style>\n",
       "<table border=\"1\" class=\"dataframe\">\n",
       "  <thead>\n",
       "    <tr style=\"text-align: right;\">\n",
       "      <th></th>\n",
       "      <th>Gender</th>\n",
       "      <th>Age</th>\n",
       "      <th>Marital_Status</th>\n",
       "      <th>Product_Category_1</th>\n",
       "      <th>Product_Category_2</th>\n",
       "      <th>Product_Category_3</th>\n",
       "      <th>Purchase</th>\n",
       "    </tr>\n",
       "  </thead>\n",
       "  <tbody>\n",
       "    <tr>\n",
       "      <td>0</td>\n",
       "      <td>1</td>\n",
       "      <td>0</td>\n",
       "      <td>0</td>\n",
       "      <td>3</td>\n",
       "      <td>NaN</td>\n",
       "      <td>NaN</td>\n",
       "      <td>8370</td>\n",
       "    </tr>\n",
       "    <tr>\n",
       "      <td>1</td>\n",
       "      <td>1</td>\n",
       "      <td>0</td>\n",
       "      <td>0</td>\n",
       "      <td>1</td>\n",
       "      <td>6.0</td>\n",
       "      <td>14.0</td>\n",
       "      <td>15200</td>\n",
       "    </tr>\n",
       "    <tr>\n",
       "      <td>2</td>\n",
       "      <td>1</td>\n",
       "      <td>0</td>\n",
       "      <td>0</td>\n",
       "      <td>12</td>\n",
       "      <td>NaN</td>\n",
       "      <td>NaN</td>\n",
       "      <td>1422</td>\n",
       "    </tr>\n",
       "    <tr>\n",
       "      <td>3</td>\n",
       "      <td>1</td>\n",
       "      <td>0</td>\n",
       "      <td>0</td>\n",
       "      <td>12</td>\n",
       "      <td>14.0</td>\n",
       "      <td>NaN</td>\n",
       "      <td>1057</td>\n",
       "    </tr>\n",
       "    <tr>\n",
       "      <td>4</td>\n",
       "      <td>0</td>\n",
       "      <td>6</td>\n",
       "      <td>0</td>\n",
       "      <td>8</td>\n",
       "      <td>NaN</td>\n",
       "      <td>NaN</td>\n",
       "      <td>7969</td>\n",
       "    </tr>\n",
       "  </tbody>\n",
       "</table>\n",
       "</div>"
      ],
      "text/plain": [
       "   Gender  Age  Marital_Status  Product_Category_1  Product_Category_2  \\\n",
       "0       1    0               0                   3                 NaN   \n",
       "1       1    0               0                   1                 6.0   \n",
       "2       1    0               0                  12                 NaN   \n",
       "3       1    0               0                  12                14.0   \n",
       "4       0    6               0                   8                 NaN   \n",
       "\n",
       "   Product_Category_3  Purchase  \n",
       "0                 NaN      8370  \n",
       "1                14.0     15200  \n",
       "2                 NaN      1422  \n",
       "3                 NaN      1057  \n",
       "4                 NaN      7969  "
      ]
     },
     "execution_count": 11,
     "metadata": {},
     "output_type": "execute_result"
    }
   ],
   "source": [
    "sales_1.head()"
   ]
  },
  {
   "cell_type": "markdown",
   "metadata": {},
   "source": [
    "--> Creating pipelines to preprocess the data"
   ]
  },
  {
   "cell_type": "code",
   "execution_count": 12,
   "metadata": {},
   "outputs": [],
   "source": [
    "from sklearn.pipeline import Pipeline\n",
    "from sklearn.impute import SimpleImputer\n",
    "from sklearn.preprocessing import MinMaxScaler"
   ]
  },
  {
   "cell_type": "code",
   "execution_count": 13,
   "metadata": {},
   "outputs": [],
   "source": [
    "pipeline = Pipeline([\n",
    "    ('impute' , SimpleImputer(strategy='most_frequent'))\n",
    "])"
   ]
  },
  {
   "cell_type": "code",
   "execution_count": 14,
   "metadata": {},
   "outputs": [
    {
     "data": {
      "text/html": [
       "<div>\n",
       "<style scoped>\n",
       "    .dataframe tbody tr th:only-of-type {\n",
       "        vertical-align: middle;\n",
       "    }\n",
       "\n",
       "    .dataframe tbody tr th {\n",
       "        vertical-align: top;\n",
       "    }\n",
       "\n",
       "    .dataframe thead th {\n",
       "        text-align: right;\n",
       "    }\n",
       "</style>\n",
       "<table border=\"1\" class=\"dataframe\">\n",
       "  <thead>\n",
       "    <tr style=\"text-align: right;\">\n",
       "      <th></th>\n",
       "      <th>Gender</th>\n",
       "      <th>Age</th>\n",
       "      <th>Marital_Status</th>\n",
       "      <th>Product_Category_1</th>\n",
       "      <th>Product_Category_2</th>\n",
       "      <th>Product_Category_3</th>\n",
       "      <th>Purchase</th>\n",
       "    </tr>\n",
       "  </thead>\n",
       "  <tbody>\n",
       "    <tr>\n",
       "      <td>0</td>\n",
       "      <td>1.0</td>\n",
       "      <td>0.0</td>\n",
       "      <td>0.0</td>\n",
       "      <td>3.0</td>\n",
       "      <td>8.0</td>\n",
       "      <td>16.0</td>\n",
       "      <td>8370.0</td>\n",
       "    </tr>\n",
       "    <tr>\n",
       "      <td>1</td>\n",
       "      <td>1.0</td>\n",
       "      <td>0.0</td>\n",
       "      <td>0.0</td>\n",
       "      <td>1.0</td>\n",
       "      <td>6.0</td>\n",
       "      <td>14.0</td>\n",
       "      <td>15200.0</td>\n",
       "    </tr>\n",
       "    <tr>\n",
       "      <td>2</td>\n",
       "      <td>1.0</td>\n",
       "      <td>0.0</td>\n",
       "      <td>0.0</td>\n",
       "      <td>12.0</td>\n",
       "      <td>8.0</td>\n",
       "      <td>16.0</td>\n",
       "      <td>1422.0</td>\n",
       "    </tr>\n",
       "    <tr>\n",
       "      <td>3</td>\n",
       "      <td>1.0</td>\n",
       "      <td>0.0</td>\n",
       "      <td>0.0</td>\n",
       "      <td>12.0</td>\n",
       "      <td>14.0</td>\n",
       "      <td>16.0</td>\n",
       "      <td>1057.0</td>\n",
       "    </tr>\n",
       "    <tr>\n",
       "      <td>4</td>\n",
       "      <td>0.0</td>\n",
       "      <td>6.0</td>\n",
       "      <td>0.0</td>\n",
       "      <td>8.0</td>\n",
       "      <td>8.0</td>\n",
       "      <td>16.0</td>\n",
       "      <td>7969.0</td>\n",
       "    </tr>\n",
       "  </tbody>\n",
       "</table>\n",
       "</div>"
      ],
      "text/plain": [
       "   Gender  Age  Marital_Status  Product_Category_1  Product_Category_2  \\\n",
       "0     1.0  0.0             0.0                 3.0                 8.0   \n",
       "1     1.0  0.0             0.0                 1.0                 6.0   \n",
       "2     1.0  0.0             0.0                12.0                 8.0   \n",
       "3     1.0  0.0             0.0                12.0                14.0   \n",
       "4     0.0  6.0             0.0                 8.0                 8.0   \n",
       "\n",
       "   Product_Category_3  Purchase  \n",
       "0                16.0    8370.0  \n",
       "1                14.0   15200.0  \n",
       "2                16.0    1422.0  \n",
       "3                16.0    1057.0  \n",
       "4                16.0    7969.0  "
      ]
     },
     "execution_count": 14,
     "metadata": {},
     "output_type": "execute_result"
    }
   ],
   "source": [
    "final_data = pipeline.fit_transform(sales_1)\n",
    "final_data = pd.DataFrame(data=final_data,columns=sales_1.columns)\n",
    "final_data.head()"
   ]
  },
  {
   "cell_type": "markdown",
   "metadata": {},
   "source": [
    "--> Seperating X and y"
   ]
  },
  {
   "cell_type": "code",
   "execution_count": 15,
   "metadata": {},
   "outputs": [],
   "source": [
    "feat = final_data.drop('Purchase',axis=1)\n",
    "label = final_data[['Purchase']]"
   ]
  },
  {
   "cell_type": "markdown",
   "metadata": {},
   "source": [
    "--> scaling the data"
   ]
  },
  {
   "cell_type": "code",
   "execution_count": 16,
   "metadata": {},
   "outputs": [],
   "source": [
    "from sklearn.preprocessing import MinMaxScaler"
   ]
  },
  {
   "cell_type": "code",
   "execution_count": 17,
   "metadata": {},
   "outputs": [],
   "source": [
    "pline = Pipeline([\n",
    "    ('scale' , MinMaxScaler())\n",
    "]) "
   ]
  },
  {
   "cell_type": "code",
   "execution_count": 18,
   "metadata": {},
   "outputs": [],
   "source": [
    "scaled_feat = pline.fit_transform(feat)\n",
    "scaled_label = pline.fit_transform(label)\n",
    "scaled_label = scaled_label.ravel()"
   ]
  },
  {
   "cell_type": "code",
   "execution_count": 19,
   "metadata": {},
   "outputs": [
    {
     "data": {
      "text/plain": [
       "(550068, 6)"
      ]
     },
     "execution_count": 19,
     "metadata": {},
     "output_type": "execute_result"
    }
   ],
   "source": [
    "feat.shape"
   ]
  },
  {
   "cell_type": "code",
   "execution_count": 20,
   "metadata": {},
   "outputs": [
    {
     "data": {
      "text/plain": [
       "550068"
      ]
     },
     "execution_count": 20,
     "metadata": {},
     "output_type": "execute_result"
    }
   ],
   "source": [
    "len(scaled_feat)"
   ]
  },
  {
   "cell_type": "code",
   "execution_count": 21,
   "metadata": {},
   "outputs": [
    {
     "data": {
      "text/plain": [
       "550068"
      ]
     },
     "execution_count": 21,
     "metadata": {},
     "output_type": "execute_result"
    }
   ],
   "source": [
    "len(scaled_label)"
   ]
  },
  {
   "cell_type": "markdown",
   "metadata": {},
   "source": [
    "# Splitting the data"
   ]
  },
  {
   "cell_type": "code",
   "execution_count": 22,
   "metadata": {},
   "outputs": [],
   "source": [
    "from sklearn.model_selection import train_test_split"
   ]
  },
  {
   "cell_type": "code",
   "execution_count": 23,
   "metadata": {},
   "outputs": [],
   "source": [
    "X_train, X_test, y_train, y_test = train_test_split(scaled_feat, scaled_label, test_size=0.2)"
   ]
  },
  {
   "cell_type": "markdown",
   "metadata": {},
   "source": [
    "# MLP Model"
   ]
  },
  {
   "cell_type": "code",
   "execution_count": 24,
   "metadata": {},
   "outputs": [
    {
     "name": "stderr",
     "output_type": "stream",
     "text": [
      "Using TensorFlow backend.\n"
     ]
    }
   ],
   "source": [
    "import keras"
   ]
  },
  {
   "cell_type": "code",
   "execution_count": 25,
   "metadata": {},
   "outputs": [
    {
     "data": {
      "text/plain": [
       "(550068, 6)"
      ]
     },
     "execution_count": 25,
     "metadata": {},
     "output_type": "execute_result"
    }
   ],
   "source": [
    "scaled_feat.shape"
   ]
  },
  {
   "cell_type": "markdown",
   "metadata": {},
   "source": [
    "--> Building network"
   ]
  },
  {
   "cell_type": "code",
   "execution_count": 26,
   "metadata": {},
   "outputs": [
    {
     "name": "stderr",
     "output_type": "stream",
     "text": [
      "WARNING: Logging before flag parsing goes to stderr.\n",
      "W0804 02:21:47.890383 140299458000704 deprecation_wrapper.py:119] From /usr/local/anaconda/lib/python3.6/site-packages/keras/backend/tensorflow_backend.py:72: The name tf.get_default_graph is deprecated. Please use tf.compat.v1.get_default_graph instead.\n",
      "\n",
      "W0804 02:21:47.909915 140299458000704 deprecation_wrapper.py:119] From /usr/local/anaconda/lib/python3.6/site-packages/keras/backend/tensorflow_backend.py:515: The name tf.placeholder is deprecated. Please use tf.compat.v1.placeholder instead.\n",
      "\n",
      "W0804 02:21:47.913339 140299458000704 deprecation_wrapper.py:119] From /usr/local/anaconda/lib/python3.6/site-packages/keras/backend/tensorflow_backend.py:4095: The name tf.truncated_normal is deprecated. Please use tf.random.truncated_normal instead.\n",
      "\n",
      "W0804 02:21:47.930105 140299458000704 deprecation.py:323] From /usr/local/anaconda/lib/python3.6/site-packages/keras/backend/tensorflow_backend.py:3140: add_dispatch_support.<locals>.wrapper (from tensorflow.python.ops.array_ops) is deprecated and will be removed in a future version.\n",
      "Instructions for updating:\n",
      "Use tf.where in 2.0, which has the same broadcast rule as np.where\n",
      "W0804 02:21:47.968652 140299458000704 deprecation_wrapper.py:119] From /usr/local/anaconda/lib/python3.6/site-packages/keras/backend/tensorflow_backend.py:4048: The name tf.random_uniform is deprecated. Please use tf.random.uniform instead.\n",
      "\n"
     ]
    }
   ],
   "source": [
    "from keras.models import Sequential\n",
    "from keras.layers import Dense\n",
    "\n",
    "model = Sequential()\n",
    "\n",
    "model.add(Dense(30,input_dim = 6 , activation='selu',kernel_initializer='lecun_normal'))\n",
    "model.add(Dense(60,input_dim = 6 , activation='selu',kernel_initializer='lecun_normal'))\n",
    "model.add(Dense(120,input_dim = 6 , activation='selu',kernel_initializer='lecun_normal'))\n",
    "\n",
    "model.add(Dense(1))\n",
    "\n"
   ]
  },
  {
   "cell_type": "code",
   "execution_count": 27,
   "metadata": {},
   "outputs": [
    {
     "name": "stdout",
     "output_type": "stream",
     "text": [
      "_________________________________________________________________\n",
      "Layer (type)                 Output Shape              Param #   \n",
      "=================================================================\n",
      "dense_1 (Dense)              (None, 30)                210       \n",
      "_________________________________________________________________\n",
      "dense_2 (Dense)              (None, 60)                1860      \n",
      "_________________________________________________________________\n",
      "dense_3 (Dense)              (None, 120)               7320      \n",
      "_________________________________________________________________\n",
      "dense_4 (Dense)              (None, 1)                 121       \n",
      "=================================================================\n",
      "Total params: 9,511\n",
      "Trainable params: 9,511\n",
      "Non-trainable params: 0\n",
      "_________________________________________________________________\n"
     ]
    }
   ],
   "source": [
    "model.summary()"
   ]
  },
  {
   "cell_type": "raw",
   "metadata": {},
   "source": [
    "Observations:\n",
    "    1) There are 210 trainable parameters (6 inputs * 30 neurons + 30 biases) in input layer.\n",
    "    2) There are 1860 trainable parameters (30 inputs from layer 1 * 60 neurons +  60 biases) in hidden layer.\n",
    "    3) Total number of trainable parameters are 2131."
   ]
  },
  {
   "cell_type": "markdown",
   "metadata": {},
   "source": [
    "--> compliling model"
   ]
  },
  {
   "cell_type": "code",
   "execution_count": 28,
   "metadata": {},
   "outputs": [
    {
     "name": "stderr",
     "output_type": "stream",
     "text": [
      "W0804 02:21:48.048349 140299458000704 deprecation_wrapper.py:119] From /usr/local/anaconda/lib/python3.6/site-packages/keras/optimizers.py:782: The name tf.train.Optimizer is deprecated. Please use tf.compat.v1.train.Optimizer instead.\n",
      "\n"
     ]
    }
   ],
   "source": [
    "model.compile(optimizer='adam',loss='mean_squared_error')"
   ]
  },
  {
   "cell_type": "markdown",
   "metadata": {},
   "source": [
    "--> Training model"
   ]
  },
  {
   "cell_type": "code",
   "execution_count": 29,
   "metadata": {
    "scrolled": true
   },
   "outputs": [
    {
     "name": "stderr",
     "output_type": "stream",
     "text": [
      "W0804 02:21:48.275334 140299458000704 deprecation_wrapper.py:119] From /usr/local/anaconda/lib/python3.6/site-packages/keras/backend/tensorflow_backend.py:984: The name tf.assign_add is deprecated. Please use tf.compat.v1.assign_add instead.\n",
      "\n"
     ]
    },
    {
     "name": "stdout",
     "output_type": "stream",
     "text": [
      "Train on 352043 samples, validate on 88011 samples\n",
      "Epoch 1/50\n",
      "352043/352043 [==============================] - 2s 5us/step - loss: 0.1533 - val_loss: 0.0430\n",
      "Epoch 2/50\n",
      "352043/352043 [==============================] - 1s 3us/step - loss: 0.0387 - val_loss: 0.0374\n",
      "Epoch 3/50\n",
      "352043/352043 [==============================] - 1s 3us/step - loss: 0.0358 - val_loss: 0.0360\n",
      "Epoch 4/50\n",
      "352043/352043 [==============================] - 1s 3us/step - loss: 0.0346 - val_loss: 0.0351\n",
      "Epoch 5/50\n",
      "352043/352043 [==============================] - 1s 3us/step - loss: 0.0338 - val_loss: 0.0342\n",
      "Epoch 6/50\n",
      "352043/352043 [==============================] - 1s 3us/step - loss: 0.0333 - val_loss: 0.0341\n",
      "Epoch 7/50\n",
      "352043/352043 [==============================] - 1s 3us/step - loss: 0.0329 - val_loss: 0.0341\n",
      "Epoch 8/50\n",
      "352043/352043 [==============================] - 1s 3us/step - loss: 0.0326 - val_loss: 0.0334\n",
      "Epoch 9/50\n",
      "352043/352043 [==============================] - 1s 4us/step - loss: 0.0323 - val_loss: 0.0339\n",
      "Epoch 10/50\n",
      "352043/352043 [==============================] - 1s 3us/step - loss: 0.0322 - val_loss: 0.0340\n",
      "Epoch 11/50\n",
      "352043/352043 [==============================] - 1s 3us/step - loss: 0.0319 - val_loss: 0.0324\n",
      "Epoch 12/50\n",
      "352043/352043 [==============================] - 1s 3us/step - loss: 0.0315 - val_loss: 0.0334\n",
      "Epoch 13/50\n",
      "352043/352043 [==============================] - 1s 3us/step - loss: 0.0315 - val_loss: 0.0326\n",
      "Epoch 14/50\n",
      "352043/352043 [==============================] - 1s 3us/step - loss: 0.0313 - val_loss: 0.0350\n",
      "Epoch 15/50\n",
      "352043/352043 [==============================] - 1s 3us/step - loss: 0.0312 - val_loss: 0.0323\n",
      "Epoch 16/50\n",
      "352043/352043 [==============================] - 1s 3us/step - loss: 0.0309 - val_loss: 0.0337\n",
      "Epoch 17/50\n",
      "352043/352043 [==============================] - 1s 3us/step - loss: 0.0308 - val_loss: 0.0335\n",
      "Epoch 18/50\n",
      "352043/352043 [==============================] - 1s 3us/step - loss: 0.0307 - val_loss: 0.0348\n",
      "Epoch 19/50\n",
      "352043/352043 [==============================] - 1s 3us/step - loss: 0.0307 - val_loss: 0.0356\n",
      "Epoch 20/50\n",
      "352043/352043 [==============================] - 1s 3us/step - loss: 0.0306 - val_loss: 0.0312\n",
      "Epoch 21/50\n",
      "352043/352043 [==============================] - 1s 3us/step - loss: 0.0301 - val_loss: 0.0353\n",
      "Epoch 22/50\n",
      "352043/352043 [==============================] - 1s 3us/step - loss: 0.0304 - val_loss: 0.0312\n",
      "Epoch 23/50\n",
      "352043/352043 [==============================] - 1s 3us/step - loss: 0.0300 - val_loss: 0.0345\n",
      "Epoch 24/50\n",
      "352043/352043 [==============================] - 1s 3us/step - loss: 0.0301 - val_loss: 0.0308\n",
      "Epoch 25/50\n",
      "352043/352043 [==============================] - 1s 3us/step - loss: 0.0298 - val_loss: 0.0360\n",
      "Epoch 26/50\n",
      "352043/352043 [==============================] - 1s 4us/step - loss: 0.0299 - val_loss: 0.0344\n",
      "Epoch 27/50\n",
      "352043/352043 [==============================] - 1s 4us/step - loss: 0.0296 - val_loss: 0.0316\n",
      "Epoch 28/50\n",
      "352043/352043 [==============================] - 1s 4us/step - loss: 0.0294 - val_loss: 0.0305\n",
      "Epoch 29/50\n",
      "352043/352043 [==============================] - 1s 4us/step - loss: 0.0293 - val_loss: 0.0366\n",
      "Epoch 30/50\n",
      "352043/352043 [==============================] - 1s 4us/step - loss: 0.0296 - val_loss: 0.0306\n",
      "Epoch 31/50\n",
      "352043/352043 [==============================] - 1s 3us/step - loss: 0.0293 - val_loss: 0.0376\n",
      "Epoch 32/50\n",
      "352043/352043 [==============================] - 1s 3us/step - loss: 0.0298 - val_loss: 0.0314\n",
      "Epoch 33/50\n",
      "352043/352043 [==============================] - 1s 3us/step - loss: 0.0289 - val_loss: 0.0412\n",
      "Epoch 34/50\n",
      "352043/352043 [==============================] - 1s 3us/step - loss: 0.0291 - val_loss: 0.0321\n",
      "Epoch 35/50\n",
      "352043/352043 [==============================] - 1s 3us/step - loss: 0.0287 - val_loss: 0.0313\n",
      "Epoch 36/50\n",
      "352043/352043 [==============================] - 1s 3us/step - loss: 0.0288 - val_loss: 0.0293\n",
      "Epoch 37/50\n",
      "352043/352043 [==============================] - 1s 3us/step - loss: 0.0283 - val_loss: 0.0307\n",
      "Epoch 38/50\n",
      "352043/352043 [==============================] - 1s 3us/step - loss: 0.0283 - val_loss: 0.0310\n",
      "Epoch 39/50\n",
      "352043/352043 [==============================] - 1s 3us/step - loss: 0.0281 - val_loss: 0.0462\n",
      "Epoch 40/50\n",
      "352043/352043 [==============================] - 1s 3us/step - loss: 0.0286 - val_loss: 0.0293\n",
      "Epoch 41/50\n",
      "352043/352043 [==============================] - 1s 3us/step - loss: 0.0278 - val_loss: 0.0304\n",
      "Epoch 42/50\n",
      "352043/352043 [==============================] - 1s 3us/step - loss: 0.0275 - val_loss: 0.0330\n",
      "Epoch 43/50\n",
      "352043/352043 [==============================] - 1s 3us/step - loss: 0.0274 - val_loss: 0.0293\n",
      "Epoch 44/50\n",
      "352043/352043 [==============================] - 1s 3us/step - loss: 0.0271 - val_loss: 0.0319\n",
      "Epoch 45/50\n",
      "352043/352043 [==============================] - 1s 3us/step - loss: 0.0269 - val_loss: 0.0291\n",
      "Epoch 46/50\n",
      "352043/352043 [==============================] - 1s 3us/step - loss: 0.0266 - val_loss: 0.0306\n",
      "Epoch 47/50\n",
      "352043/352043 [==============================] - 1s 3us/step - loss: 0.0264 - val_loss: 0.0300\n",
      "Epoch 48/50\n",
      "352043/352043 [==============================] - 1s 3us/step - loss: 0.0263 - val_loss: 0.0279\n",
      "Epoch 49/50\n",
      "352043/352043 [==============================] - 1s 3us/step - loss: 0.0263 - val_loss: 0.0329\n",
      "Epoch 50/50\n",
      "352043/352043 [==============================] - 1s 3us/step - loss: 0.0261 - val_loss: 0.0302\n"
     ]
    }
   ],
   "source": [
    "# Adding call backs\n",
    "early_stopping = keras.callbacks.EarlyStopping(patience=10) # if there is no improvement in accuracy for 10 epochs, training will stop\n",
    "\n",
    "history = model.fit(X_train,y_train,epochs=50, validation_split=0.2 ,callbacks=[early_stopping] , batch_size=3520)"
   ]
  },
  {
   "cell_type": "code",
   "execution_count": 30,
   "metadata": {},
   "outputs": [
    {
     "data": {
      "text/plain": [
       "<matplotlib.legend.Legend at 0x7f99845615c0>"
      ]
     },
     "execution_count": 30,
     "metadata": {},
     "output_type": "execute_result"
    },
    {
     "data": {
      "image/png": "[encoded data removed]",
      "text/plain": [
       "<Figure size 432x288 with 1 Axes>"
      ]
     },
     "metadata": {
      "needs_background": "light"
     },
     "output_type": "display_data"
    }
   ],
   "source": [
    "plt.plot(history.history['loss'] , 'r-',label = 'training loss')\n",
    "plt.plot(history.history['val_loss'] , 'b-' , label = 'validation loss')\n",
    "plt.title('Training vs validation loss')\n",
    "plt.xlabel('no. of epocs')\n",
    "plt.ylabel('training and validation loss')\n",
    "plt.legend()"
   ]
  },
  {
   "cell_type": "markdown",
   "metadata": {},
   "source": [
    "# Evaluating the model on test data"
   ]
  },
  {
   "cell_type": "code",
   "execution_count": 31,
   "metadata": {},
   "outputs": [
    {
     "name": "stdout",
     "output_type": "stream",
     "text": [
      "110014/110014 [==============================] - 2s 20us/step\n"
     ]
    }
   ],
   "source": [
    "mse_test = model.evaluate(X_test,y_test)"
   ]
  },
  {
   "cell_type": "markdown",
   "metadata": {},
   "source": [
    "# Predictions"
   ]
  },
  {
   "cell_type": "code",
   "execution_count": 32,
   "metadata": {},
   "outputs": [
    {
     "data": {
      "text/plain": [
       "array([[0.55171096],\n",
       "       [0.51611966],\n",
       "       [0.11771263],\n",
       "       [0.30050263],\n",
       "       [0.37434256],\n",
       "       [0.48737398],\n",
       "       [0.3500386 ],\n",
       "       [0.61684746],\n",
       "       [0.37735233],\n",
       "       [0.23939215]], dtype=float32)"
      ]
     },
     "execution_count": 32,
     "metadata": {},
     "output_type": "execute_result"
    }
   ],
   "source": [
    "pred = model.predict(X_test[:10])\n",
    "pred"
   ]
  },
  {
   "cell_type": "code",
   "execution_count": 33,
   "metadata": {},
   "outputs": [
    {
     "data": {
      "text/plain": [
       "array([0.63697858, 0.81848929, 0.00450958, 0.29934444, 0.14702075,\n",
       "       0.66624911, 0.36561026, 0.79990814, 0.22109483, 0.36757276])"
      ]
     },
     "execution_count": 33,
     "metadata": {},
     "output_type": "execute_result"
    }
   ],
   "source": [
    "y_test[:10]"
   ]
  },
  {
   "cell_type": "code",
   "execution_count": null,
   "metadata": {},
   "outputs": [],
   "source": []
  }
 ],
 "metadata": {
  "kernelspec": {
   "display_name": "Python 3",
   "language": "python",
   "name": "python3"
  },
  "language_info": {
   "codemirror_mode": {
    "name": "ipython",
    "version": 3
   },
   "file_extension": ".py",
   "mimetype": "text/x-python",
   "name": "python",
   "nbconvert_exporter": "python",
   "pygments_lexer": "ipython3",
   "version": "3.6.8"
  },
  "toc": {
   "base_numbering": 1,
   "nav_menu": {},
   "number_sections": true,
   "sideBar": true,
   "skip_h1_title": false,
   "title_cell": "Table of Contents",
   "title_sidebar": "Contents",
   "toc_cell": false,
   "toc_position": {},
   "toc_section_display": true,
   "toc_window_display": false
  }
 },
 "nbformat": 4,
 "nbformat_minor": 2
}
